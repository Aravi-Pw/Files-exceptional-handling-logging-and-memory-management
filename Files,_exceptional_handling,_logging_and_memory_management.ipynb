{
  "nbformat": 4,
  "nbformat_minor": 0,
  "metadata": {
    "colab": {
      "provenance": []
    },
    "kernelspec": {
      "name": "python3",
      "display_name": "Python 3"
    },
    "language_info": {
      "name": "python"
    }
  },
  "cells": [
    {
      "cell_type": "code",
      "execution_count": null,
      "metadata": {
        "id": "hQLskxpgWO8V"
      },
      "outputs": [],
      "source": []
    },
    {
      "cell_type": "markdown",
      "source": [
        "**Files**, **exceptional handling,** **logging and memory** **management**"
      ],
      "metadata": {
        "id": "qh3JcqU2WVNz"
      }
    },
    {
      "cell_type": "markdown",
      "source": [
        "Theory Questions\n",
        "\n",
        "1. What is the difference between interpreted and compiled languages\n",
        "\n",
        "Interpreted Languages\n",
        "Code is executed line by line by an interpreter.\n",
        "\n",
        "No separate compilation step; the code runs directly.\n",
        "\n",
        "Slower execution since the interpreter translates code at runtime.\n",
        "\n",
        "Examples: Python, JavaScript, PHP, Ruby\n",
        "\n",
        "Compiled Languages\n",
        "Code is translated entirely into machine code by a compiler before execution.\n",
        "\n",
        "The compiled code (binary/executable) runs directly on the CPU.\n",
        "\n",
        "Faster execution since there's no interpretation at runtime.\n",
        "\n",
        "Examples: C, C++, Rust, Go\n",
        "\n",
        "2. What is exception handling in Python\n",
        "\n",
        "Exception handling in Python allows you to handle errors gracefully instead of crashing the program. It helps in identifying and fixing errors without stopping execution.\n",
        "\n",
        "3. What is the purpose of the finally block in exception handling\n",
        "\n",
        "The finally block in Python always executes, whether an exception occurs or not. It is typically used for cleanup operations, such as closing files, releasing resources, or disconnecting from a database.\n",
        "\n",
        "4. What is logging in Python\n",
        "\n",
        "Logging in Python is a way to track events that happen when a program runs. It helps in debugging, monitoring, and recording important messages instead of just printing them to the console.\n",
        "\n",
        "5. What is the significance of the __del__ method in Python\n",
        "\n",
        "The __del__ method is a destructor in Python. It is called automatically when an object is about to be destroyed, usually when there are no more references to it.\n",
        "\n",
        "6. What is the difference between import and from ... import in Python\n",
        "\n",
        "Both import and from ... import are used to bring external modules into a Python script, but they work differently in terms of namespace, efficiency, and readability.\n",
        "\n",
        "1. Using import\n",
        "The import statement imports the entire module, and you must use the module name when accessing its functions or variables.\n",
        "\n",
        "2. Using from ... import\n",
        "This imports specific functions or variables from a module, allowing direct usage without prefixing the module name.\n",
        "\n",
        "7. How can you handle multiple exceptions in Python\n",
        "\n",
        "Python allows handling multiple exceptions using different approaches to ensure smooth execution of programs. Below are various ways to handle multiple exceptions efficiently.\n",
        "\n",
        "8. What is the purpose of the with statement when handling files in Python0\n",
        "\n",
        "The with statement in Python is used to handle file operations safely and efficiently. It automatically closes the file when the block is exited, even if an error occurs.\n",
        "\n",
        "9. What is the difference between multithreading and multiprocessing\n",
        "\n",
        "Both multithreading and multiprocessing allow a program to perform multiple tasks simultaneously, but they work differently in terms of execution, performance, and resource utilization.\n",
        "\n",
        "Multithreading is the execution of multiple threads within the same process. Threads share the same memory space but run different tasks.\n",
        "\n",
        "🔹 Uses Python's threading module\n",
        "🔹 Best for I/O-bound tasks (e.g., file I/O, network requests)\n",
        "🔹 Threads share memory (less memory overhead)\n",
        "🔹 Limited by Python’s Global Interpreter Lock (GIL) → Only one thread executes Python code at a time\n",
        "\n",
        "Multiprocessing is the execution of multiple processes, each with its own memory space. It takes full advantage of multiple CPU cores.\n",
        "\n",
        "🔹 Uses Python's multiprocessing module\n",
        "🔹 Best for CPU-bound tasks (e.g., mathematical computations, data processing)\n",
        "🔹 Each process runs in its own memory space\n",
        "🔹 Bypasses the GIL → Allows true parallel execution\n",
        "\n",
        "10. What are the advantages of using logging in a program\n",
        "\n",
        "Logging is an essential feature in programming that helps track and debug issues, monitor program execution, and store important runtime information. In Python, the logging module provides a flexible way to log messages at different levels (DEBUG, INFO, WARNING, ERROR, CRITICAL).\n",
        "\n",
        "11. What is memory management in Python\n",
        "\n",
        "Memory management in Python is the process of efficiently allocating, tracking, and freeing memory automatically. Python uses a private heap space and built-in memory management techniques such as garbage collection and reference counting to manage memory efficiently.\n",
        "\n",
        "12. What are the basic steps involved in exception handling in Python\n",
        "Exception handling in Python is done using the try-except block to handle errors gracefully without stopping program execution.\n",
        "\n",
        "13. Why is memory management important in Python\n",
        "\n",
        "Memory management is crucial in Python to ensure efficient use of system resources, prevent memory leaks, and optimize performance. Python automatically manages memory through garbage collection and reference counting, but understanding and optimizing memory usage can improve application efficiency.\\\n",
        "\n",
        "14. What is the role of try and except in exception handling\n",
        "\n",
        "Exception handling in Python ensures that a program does not crash when an error occurs. The try and except blocks are used to catch and handle exceptions gracefully.\n",
        "\n",
        "15. How does Python's garbage collection system work\n",
        "\n",
        "Python's Garbage Collection (GC) system automatically manages memory by reclaiming unused objects, preventing memory leaks, and improving performance. It mainly relies on Reference Counting and Cyclic Garbage Collection.\n",
        "\n",
        "16. What is the purpose of the else block in exception handling\n",
        "\n",
        "In Python, the else block in exception handling is executed only if no exceptions occur in the try block. It allows you to separate the successful execution logic from error-handling logic, making your code cleaner and more readable.\n",
        "\n",
        "17. What are the common logging levels in Python\n",
        "Python’s logging module provides several logging levels to categorize messages based on severity. These levels help developers track errors, debug issues, and monitor application performance.\n",
        "\n",
        "18. What is the difference between os.fork() and multiprocessing in Python\n",
        "\n",
        "Both os.fork() and the multiprocessing module in Python are used for creating new processes, but they have key differences in how they work, their portability, and ease of use.\n",
        "\n",
        "os.fork(): Low-Level Process Creation\n",
        "Creates a child process by duplicating the parent process.\n",
        "\n",
        "Returns 0 in the child process and the child’s PID in the parent process.\n",
        "\n",
        "Available only on Unix-based systems (Linux & macOS, ❌ not on Windows).\n",
        "\n",
        "Requires manual management of processes.\n",
        "\n",
        "multiprocessing Module: High-Level Process Management\n",
        "Provides a portable way to create and manage multiple processes.\n",
        "\n",
        "Works on Windows, Linux, and macOS.\n",
        "\n",
        "Uses the Process class to create and start processes.\n",
        "\n",
        "Handles inter-process communication (IPC) easily.\n",
        "\n",
        "Safer than os.fork() due to Python’s Global Interpreter Lock (GIL) handling.\n",
        "\n",
        "19. What is the importance of closing a file in Python\n",
        "\n",
        "When working with files in Python, it is crucial to close the file after reading or writing. The close() method ensures that system resources are freed and that data is properly saved.\n",
        "\n",
        "20. What is the difference between file.read() and file.readline() in Python\n",
        "\n",
        "Both file.read() and file.readline() are used to read content from a file, but they work differently in terms of how much data they read at a time.\n",
        "file.read([size])\n",
        "Reads the entire file or a specified number of bytes.\n",
        "\n",
        "If no argument is given, it reads the whole file at once.\n",
        "\n",
        "Useful when you need to process the entire file at once.\n",
        "\n",
        "\n",
        "file.readline()\n",
        "Reads one line at a time from the file.\n",
        "\n",
        "Each call to readline() moves the file pointer to the next line.\n",
        "\n",
        "Useful when reading large files line by line to save memory.\n",
        "\n",
        "21. What is the logging module in Python used for\n",
        "\n",
        "The logging module in Python is used for tracking events that occur when a program runs. It helps developers record messages (logs) to debug, monitor, and troubleshoot applications efficiently.\n",
        "\n",
        "22. What is the os module in Python used for in file handling\n",
        "\n",
        "The os module in Python provides functions to interact with the operating system, including file and directory handling. It allows you to create, delete, rename, move, check, and modify files and directories programmatically.\n",
        "\n",
        "23. What are the challenges associated with memory management in Python\n",
        "\n",
        "Python handles memory management automatically using Garbage Collection (GC) and Reference Counting, but there are still challenges developers may face.\n",
        "\n",
        "Reference cycles\n",
        "Large objects lingering\n",
        "Memory fragmentation\n",
        "High memory usage\n",
        "GC delays freeing memory\n",
        "Global variables preventing GC\n",
        "\n",
        "24. How do you raise an exception manually in Python\n",
        "\n",
        "In Python, you can manually raise an exception using the raise keyword. This is useful when you want to enforce conditions, validate inputs, or handle errors explicitly.\n",
        "\n",
        "Raise a generic exception\n",
        "Raise a specific built-in exception\n",
        "Create and raise a custom exception\n",
        "\tclass MyError(Exception): pass\n",
        "raise MyError(\"Custom error\")\n",
        "\n",
        "25. Why is it important to use multithreading in certain applications?\n",
        "\n",
        "Multithreading is important because it allows a program to run multiple tasks concurrently, improving efficiency, responsiveness, and resource utilization."
      ],
      "metadata": {
        "id": "eIBQQw-WWdoO"
      }
    },
    {
      "cell_type": "code",
      "source": [
        "#Practical Questions"
      ],
      "metadata": {
        "id": "4GHHCMSaeHlU"
      },
      "execution_count": null,
      "outputs": []
    },
    {
      "cell_type": "code",
      "source": [
        "#1. How can you open a file for writing in Python and write a string to it\n",
        "\n",
        "# Open the file in write mode ('w')\n",
        "with open(\"example.txt\", \"w\") as file:\n",
        "    file.write(\"Hello, this is a test file!\")\n",
        "\n",
        "print(\"File written successfully!\")\n"
      ],
      "metadata": {
        "colab": {
          "base_uri": "https://localhost:8080/"
        },
        "id": "eFus5V_oeMFw",
        "outputId": "8dd610a4-d169-4321-ecbf-ebed2b412427"
      },
      "execution_count": 1,
      "outputs": [
        {
          "output_type": "stream",
          "name": "stdout",
          "text": [
            "File written successfully!\n"
          ]
        }
      ]
    },
    {
      "cell_type": "code",
      "source": [
        "#2. Write a Python program to read the contents of a file and print each line\n",
        "# Open the file in read mode ('r')\n",
        "with open(\"example.txt\", \"r\") as file:\n",
        "    for line in file:  # Read each line\n",
        "        print(line.strip())  # strip() removes extra newlines\n"
      ],
      "metadata": {
        "colab": {
          "base_uri": "https://localhost:8080/"
        },
        "id": "oxwTe9F6eaan",
        "outputId": "07f35f0b-bbfb-43a7-fa7a-12fb77245abf"
      },
      "execution_count": 2,
      "outputs": [
        {
          "output_type": "stream",
          "name": "stdout",
          "text": [
            "Hello, this is a test file!\n"
          ]
        }
      ]
    },
    {
      "cell_type": "code",
      "source": [
        "#3. How would you handle a case where the file doesn't exist while trying to open it for reading\n",
        "\n",
        "try:\n",
        "    with open(\"example.txt\", \"r\") as file:\n",
        "        for line in file:\n",
        "            print(line.strip())\n",
        "except FileNotFoundError:\n",
        "    print(\"Error: The file does not exist. Please check the filename and try again.\")\n"
      ],
      "metadata": {
        "colab": {
          "base_uri": "https://localhost:8080/"
        },
        "id": "lt8Bh3hrem9s",
        "outputId": "5117ee72-3bbd-40ea-e0b2-c73cf0b736f4"
      },
      "execution_count": 3,
      "outputs": [
        {
          "output_type": "stream",
          "name": "stdout",
          "text": [
            "Hello, this is a test file!\n"
          ]
        }
      ]
    },
    {
      "cell_type": "code",
      "source": [
        "#4. Write a Python script that reads from one file and writes its content to another file\n",
        "\n",
        "# Define file names\n",
        "source_file = \"source.txt\"  # File to read from\n",
        "destination_file = \"destination.txt\"  # File to write to\n",
        "\n",
        "try:\n",
        "    # Open the source file in read mode and destination file in write mode\n",
        "    with open(source_file, \"r\") as src, open(destination_file, \"w\") as dest:\n",
        "        content = src.read()  # Read entire file content\n",
        "        dest.write(content)  # Write content to the destination file\n",
        "\n",
        "    print(f\"Contents copied from '{source_file}' to '{destination_file}' successfully.\")\n",
        "except FileNotFoundError:\n",
        "    print(f\"Error: '{source_file}' does not exist.\")\n",
        "except Exception as e:\n",
        "    print(f\"An error occurred: {e}\")\n"
      ],
      "metadata": {
        "colab": {
          "base_uri": "https://localhost:8080/"
        },
        "id": "bO9lf-T_eu2g",
        "outputId": "310a0d26-27a4-42df-e9c8-a4c1f67b8a78"
      },
      "execution_count": 4,
      "outputs": [
        {
          "output_type": "stream",
          "name": "stdout",
          "text": [
            "Error: 'source.txt' does not exist.\n"
          ]
        }
      ]
    },
    {
      "cell_type": "code",
      "source": [
        "#5. How would you catch and handle division by zero error in Python\n",
        "\n",
        "try:\n",
        "    num = int(input(\"Enter a number: \"))\n",
        "    result = 100 / num  # May raise ZeroDivisionError\n",
        "    print(f\"Result: {result}\")\n",
        "except ZeroDivisionError:\n",
        "    print(\"Error: You cannot divide by zero.\")\n",
        "except ValueError:\n",
        "    print(\"Error: Please enter a valid number.\")\n"
      ],
      "metadata": {
        "colab": {
          "base_uri": "https://localhost:8080/"
        },
        "id": "2yLTbte4fTlm",
        "outputId": "422ba3cf-38d0-4996-a996-8c02b77ed463"
      },
      "execution_count": 5,
      "outputs": [
        {
          "output_type": "stream",
          "name": "stdout",
          "text": [
            "Enter a number: 10\n",
            "Result: 10.0\n"
          ]
        }
      ]
    },
    {
      "cell_type": "code",
      "source": [
        "#6. Write a Python program that logs an error message to a log file when a division by zero exception occurs\n",
        "\n",
        "import logging\n",
        "\n",
        "# Configure logging to write to a file\n",
        "logging.basicConfig(\n",
        "    filename=\"error.log\",  # Log file name\n",
        "    level=logging.ERROR,  # Log only errors and above\n",
        "    format=\"%(asctime)s - %(levelname)s - %(message)s\"  # Format for log messages\n",
        ")\n",
        "\n",
        "def safe_divide(a, b):\n",
        "    try:\n",
        "        return a / b\n",
        "    except ZeroDivisionError:\n",
        "        logging.error(\"Attempted to divide by zero.\")  # Log the error\n",
        "        return \"Error: Division by zero is not allowed.\"\n",
        "\n",
        "# Example Usage\n",
        "print(safe_divide(10, 2))  # Output: 5.0\n",
        "print(safe_divide(10, 0))  # Output: Error message\n",
        "\n",
        "print(\"Error (if any) has been logged to 'error.log'.\")\n"
      ],
      "metadata": {
        "colab": {
          "base_uri": "https://localhost:8080/"
        },
        "id": "T8gkTmtVfez3",
        "outputId": "8588e21c-acb4-4401-902a-de6d28cf0b47"
      },
      "execution_count": 6,
      "outputs": [
        {
          "output_type": "stream",
          "name": "stderr",
          "text": [
            "ERROR:root:Attempted to divide by zero.\n"
          ]
        },
        {
          "output_type": "stream",
          "name": "stdout",
          "text": [
            "5.0\n",
            "Error: Division by zero is not allowed.\n",
            "Error (if any) has been logged to 'error.log'.\n"
          ]
        }
      ]
    },
    {
      "cell_type": "code",
      "source": [
        "#7. How do you log information at different levels (INFO, ERROR, WARNING) in Python using the logging module\n",
        "\n",
        "import logging\n",
        "\n",
        "# Configure logging settings\n",
        "logging.basicConfig(\n",
        "    filename=\"app.log\",  # Log file\n",
        "    level=logging.DEBUG,  # Set logging level (captures DEBUG and above)\n",
        "    format=\"%(asctime)s - %(levelname)s - %(message)s\"  # Log format\n",
        ")\n",
        "\n",
        "# Logging messages at different levels\n",
        "logging.debug(\"This is a DEBUG message (detailed info for debugging).\")\n",
        "logging.info(\"This is an INFO message (general info).\")\n",
        "logging.warning(\"This is a WARNING message (something might go wrong).\")\n",
        "logging.error(\"This is an ERROR message (a serious issue occurred).\")\n",
        "logging.critical(\"This is a CRITICAL message (serious failure).\")\n",
        "\n",
        "print(\"Logs have been saved in 'app.log'.\")\n",
        "\n"
      ],
      "metadata": {
        "colab": {
          "base_uri": "https://localhost:8080/"
        },
        "id": "I1ulbhF-fu8a",
        "outputId": "1f0532b1-a2a6-4889-f2b2-fdcf617e82f7"
      },
      "execution_count": 7,
      "outputs": [
        {
          "output_type": "stream",
          "name": "stderr",
          "text": [
            "WARNING:root:This is a WARNING message (something might go wrong).\n",
            "ERROR:root:This is an ERROR message (a serious issue occurred).\n",
            "CRITICAL:root:This is a CRITICAL message (serious failure).\n"
          ]
        },
        {
          "output_type": "stream",
          "name": "stdout",
          "text": [
            "Logs have been saved in 'app.log'.\n"
          ]
        }
      ]
    },
    {
      "cell_type": "code",
      "source": [
        "#8. Write a program to handle a file opening error using exception handling\n",
        "\n",
        "try:\n",
        "    # Attempt to open a file that may not exist\n",
        "    with open(\"non_existent_file.txt\", \"r\") as file:\n",
        "        content = file.read()\n",
        "        print(content)\n",
        "\n",
        "except FileNotFoundError:\n",
        "    print(\"Error: The file does not exist. Please check the file name.\")\n",
        "\n",
        "except PermissionError:\n",
        "    print(\"Error: You don't have permission to access this file.\")\n",
        "\n",
        "except Exception as e:\n",
        "    print(f\"An unexpected error occurred: {e}\")\n"
      ],
      "metadata": {
        "colab": {
          "base_uri": "https://localhost:8080/"
        },
        "id": "sL7VzzlAf-1e",
        "outputId": "c21bfdb7-04e1-4135-d429-5bcf2779ffb8"
      },
      "execution_count": 9,
      "outputs": [
        {
          "output_type": "stream",
          "name": "stdout",
          "text": [
            "Error: The file does not exist. Please check the file name.\n"
          ]
        }
      ]
    },
    {
      "cell_type": "code",
      "source": [
        "#9. How can you read a file line by line and store its content in a list in Python\n",
        "\n",
        "with open(\"example.txt\", \"r\") as file:\n",
        "    lines = file.readlines()  # Reads all lines and stores them in a list\n",
        "\n",
        "print(lines)  # Output: List of lines from the file\n"
      ],
      "metadata": {
        "colab": {
          "base_uri": "https://localhost:8080/"
        },
        "id": "-U0vRxoKgKze",
        "outputId": "bead1861-4d1a-4cc5-a29e-860d003a6530"
      },
      "execution_count": 10,
      "outputs": [
        {
          "output_type": "stream",
          "name": "stdout",
          "text": [
            "['Hello, this is a test file!']\n"
          ]
        }
      ]
    },
    {
      "cell_type": "code",
      "source": [
        "#10. How can you append data to an existing file in Python\n",
        "\n",
        "with open(\"example.txt\", \"a\") as file:\n",
        "    file.write(\"\\nThis is a new line added to the file.\")\n"
      ],
      "metadata": {
        "id": "VspdlaTwgu-n"
      },
      "execution_count": 11,
      "outputs": []
    },
    {
      "cell_type": "code",
      "source": [
        "#11. Write a Python program that uses a try-except block to handle an error when attempting to access a dictionary key that doesn't exist\n",
        "\n",
        "# Sample dictionary\n",
        "student_scores = {\n",
        "    \"Alice\": 85,\n",
        "    \"Bob\": 90,\n",
        "    \"Charlie\": 78\n",
        "}\n",
        "\n",
        "try:\n",
        "    # Attempt to access a non-existing key\n",
        "    score = student_scores[\"David\"]\n",
        "    print(f\"David's score: {score}\")\n",
        "\n",
        "except KeyError:\n",
        "    print(\"Error: The key does not exist in the dictionary.\")\n"
      ],
      "metadata": {
        "colab": {
          "base_uri": "https://localhost:8080/"
        },
        "id": "S8Njpzc2g2kP",
        "outputId": "e369368f-b7b5-4585-ce3b-64968d1aed5a"
      },
      "execution_count": 12,
      "outputs": [
        {
          "output_type": "stream",
          "name": "stdout",
          "text": [
            "Error: The key does not exist in the dictionary.\n"
          ]
        }
      ]
    },
    {
      "cell_type": "code",
      "source": [
        "#12. Write a program that demonstrates using multiple except blocks to handle different types of exceptions\n",
        "\n",
        "try:\n",
        "    # User input for division\n",
        "    num1 = int(input(\"Enter a number: \"))  # May raise ValueError\n",
        "    num2 = int(input(\"Enter another number: \"))  # May raise ValueError\n",
        "\n",
        "    # Division operation\n",
        "    result = num1 / num2  # May raise ZeroDivisionError\n",
        "\n",
        "    # Dictionary access\n",
        "    sample_dict = {\"a\": 10, \"b\": 20}\n",
        "    print(sample_dict[\"c\"])  # May raise KeyError\n",
        "\n",
        "except ValueError:\n",
        "    print(\"Error: Invalid input! Please enter a valid integer.\")\n",
        "\n",
        "except ZeroDivisionError:\n",
        "    print(\"Error: Division by zero is not allowed.\")\n",
        "\n",
        "except KeyError:\n",
        "    print(\"Error: The requested key does not exist in the dictionary.\")\n",
        "\n",
        "except Exception as e:\n",
        "    print(f\"An unexpected error occurred: {e}\")\n",
        "\n"
      ],
      "metadata": {
        "colab": {
          "base_uri": "https://localhost:8080/"
        },
        "id": "on-tI22fhBzd",
        "outputId": "60c4384d-3b92-4f60-cc79-fd77b694efef"
      },
      "execution_count": 13,
      "outputs": [
        {
          "output_type": "stream",
          "name": "stdout",
          "text": [
            "Enter a number: 2\n",
            "Enter another number: 4\n",
            "Error: The requested key does not exist in the dictionary.\n"
          ]
        }
      ]
    },
    {
      "cell_type": "code",
      "source": [
        "#13.  How would you check if a file exists before attempting to read it in Python\n",
        "\n",
        "import os\n",
        "\n",
        "file_path = \"example.txt\"\n",
        "\n",
        "if os.path.exists(file_path):  # Checks if file exists\n",
        "    with open(file_path, \"r\") as file:\n",
        "        content = file.read()\n",
        "        print(content)\n",
        "else:\n",
        "    print(\"Error: The file does not exist.\")\n"
      ],
      "metadata": {
        "colab": {
          "base_uri": "https://localhost:8080/"
        },
        "id": "IX0EWlcAhNy-",
        "outputId": "f4d73416-f8ee-4d10-d8a3-f63b1df68011"
      },
      "execution_count": 14,
      "outputs": [
        {
          "output_type": "stream",
          "name": "stdout",
          "text": [
            "Hello, this is a test file!\n",
            "This is a new line added to the file.\n"
          ]
        }
      ]
    },
    {
      "cell_type": "code",
      "source": [
        "#14. Write a program that uses the logging module to log both informational and error messages\n",
        "\n",
        "import logging\n",
        "\n",
        "# Configure logging (log messages will be saved in 'app.log')\n",
        "logging.basicConfig(\n",
        "    filename=\"app.log\",  # Log file\n",
        "    level=logging.DEBUG,  # Log all messages (DEBUG and above)\n",
        "    format=\"%(asctime)s - %(levelname)s - %(message)s\",  # Log format\n",
        "    datefmt=\"%Y-%m-%d %H:%M:%S\"\n",
        ")\n",
        "\n",
        "# Logging messages\n",
        "logging.info(\"Program started successfully.\")\n",
        "\n",
        "try:\n",
        "    # Simulating a division operation\n",
        "    num1, num2 = 10, 0\n",
        "    result = num1 / num2  # Will cause ZeroDivisionError\n",
        "\n",
        "except ZeroDivisionError:\n",
        "    logging.error(\"Error: Division by zero occurred!\", exc_info=True)\n",
        "\n",
        "logging.info(\"Program execution completed.\")\n"
      ],
      "metadata": {
        "colab": {
          "base_uri": "https://localhost:8080/"
        },
        "id": "4LxbuVo5hi0G",
        "outputId": "f5f89a2c-9fc2-4e53-9c09-0b5ebb462333"
      },
      "execution_count": 15,
      "outputs": [
        {
          "output_type": "stream",
          "name": "stderr",
          "text": [
            "ERROR:root:Error: Division by zero occurred!\n",
            "Traceback (most recent call last):\n",
            "  File \"<ipython-input-15-2ffc4c04c0a8>\", line 19, in <cell line: 0>\n",
            "    result = num1 / num2  # Will cause ZeroDivisionError\n",
            "             ~~~~~^~~~~~\n",
            "ZeroDivisionError: division by zero\n"
          ]
        }
      ]
    },
    {
      "cell_type": "code",
      "source": [
        "#15. Write a Python program that prints the content of a file and handles the case when the file is empty\n",
        "\n",
        "import os\n",
        "\n",
        "file_path = \"example.txt\"  # Change this to your file name\n",
        "\n",
        "# Check if the file exists\n",
        "if os.path.isfile(file_path):\n",
        "    with open(file_path, \"r\") as file:\n",
        "        content = file.read()\n",
        "\n",
        "        if content:  # Check if file is empty\n",
        "            print(\"File Content:\\n\")\n",
        "            print(content)\n",
        "        else:\n",
        "            print(\"Warning: The file is empty.\")\n",
        "else:\n",
        "    print(\"Error: The file does not exist.\")\n"
      ],
      "metadata": {
        "colab": {
          "base_uri": "https://localhost:8080/"
        },
        "id": "KjaWpKr-hwju",
        "outputId": "769e844b-3504-4288-9a29-e40da86699a2"
      },
      "execution_count": 16,
      "outputs": [
        {
          "output_type": "stream",
          "name": "stdout",
          "text": [
            "File Content:\n",
            "\n",
            "Hello, this is a test file!\n",
            "This is a new line added to the file.\n"
          ]
        }
      ]
    },
    {
      "cell_type": "code",
      "source": [
        "#16. Demonstrate how to use memory profiling to check the memory usage of a small program\n",
        "\n",
        "!pip install memory-profiler\n",
        "\n",
        "\n"
      ],
      "metadata": {
        "colab": {
          "base_uri": "https://localhost:8080/"
        },
        "id": "tAYL9Iq7h88O",
        "outputId": "c805dd52-78a3-4dd1-f0a1-89df7ffa0c5e"
      },
      "execution_count": 30,
      "outputs": [
        {
          "output_type": "stream",
          "name": "stdout",
          "text": [
            "Collecting memory-profiler\n",
            "  Downloading memory_profiler-0.61.0-py3-none-any.whl.metadata (20 kB)\n",
            "Requirement already satisfied: psutil in /usr/local/lib/python3.11/dist-packages (from memory-profiler) (5.9.5)\n",
            "Downloading memory_profiler-0.61.0-py3-none-any.whl (31 kB)\n",
            "Installing collected packages: memory-profiler\n",
            "Successfully installed memory-profiler-0.61.0\n"
          ]
        }
      ]
    },
    {
      "cell_type": "code",
      "source": [
        "from memory_profiler import memory_usage\n",
        "import time\n",
        "\n",
        "def memory_test():\n",
        "    # Simulate memory usage\n",
        "    time.sleep(1)  # Ensure memory measurement is captured\n",
        "    data = [i for i in range(10**6)]  # 1 million numbers\n",
        "    return sum(data)  # Sum to keep data in memory\n",
        "\n",
        "# Measure memory usage\n",
        "mem_usage = memory_usage(memory_test)\n",
        "print(f\"Peak memory used: {max(mem_usage) - min(mem_usage)} MiB\")\n"
      ],
      "metadata": {
        "colab": {
          "base_uri": "https://localhost:8080/"
        },
        "id": "UJKH7Bx8laob",
        "outputId": "bfa84509-9254-425c-96c5-27cf7c3fe76d"
      },
      "execution_count": 31,
      "outputs": [
        {
          "output_type": "stream",
          "name": "stdout",
          "text": [
            "Peak memory used: 2.83984375 MiB\n"
          ]
        }
      ]
    },
    {
      "cell_type": "code",
      "source": [
        "#17. Write a Python program to create and write a list of numbers to a file, one number per line\n",
        "\n",
        "# Define the list of numbers\n",
        "numbers = list(range(1, 11))  # Generates numbers from 1 to 10\n",
        "\n",
        "# Specify the file name\n",
        "file_path = \"numbers.txt\"\n",
        "\n",
        "# Open the file in write mode and write numbers\n",
        "with open(file_path, \"w\") as file:\n",
        "    for number in numbers:\n",
        "        file.write(f\"{number}\\n\")  # Write each number on a new line\n",
        "\n",
        "print(f\"Numbers successfully written to {file_path}\")\n"
      ],
      "metadata": {
        "colab": {
          "base_uri": "https://localhost:8080/"
        },
        "id": "0Za_zmuii1yn",
        "outputId": "15fed9ea-7a18-4258-a389-d42fba06d7d3"
      },
      "execution_count": 21,
      "outputs": [
        {
          "output_type": "stream",
          "name": "stdout",
          "text": [
            "Numbers successfully written to numbers.txt\n"
          ]
        }
      ]
    },
    {
      "cell_type": "code",
      "source": [
        "#18. How would you implement a basic logging setup that logs to a file with rotation after 1MB\n",
        "\n",
        "import logging\n",
        "from logging.handlers import RotatingFileHandler\n",
        "\n",
        "# Define log file and max size (1MB = 1,048,576 bytes)\n",
        "log_file = \"app.log\"\n",
        "max_size = 1 * 1024 * 1024  # 1MB\n",
        "backup_count = 3  # Keep last 3 rotated logs\n",
        "\n",
        "# Configure logging\n",
        "logging.basicConfig(\n",
        "    level=logging.DEBUG,  # Log all levels\n",
        "    format=\"%(asctime)s - %(levelname)s - %(message)s\",\n",
        "    handlers=[\n",
        "        RotatingFileHandler(log_file, maxBytes=max_size, backupCount=backup_count)\n",
        "    ]\n",
        ")\n",
        "\n",
        "# Test logging\n",
        "for i in range(10000):  # Generate logs to fill up space\n",
        "    logging.info(f\"This is log message {i}\")\n",
        "\n",
        "print(f\"Logging setup complete. Logs are stored in {log_file}\")\n"
      ],
      "metadata": {
        "colab": {
          "base_uri": "https://localhost:8080/"
        },
        "id": "vwVuJoZBjLgQ",
        "outputId": "194f7669-d944-4f90-c0c7-9c21415fca46"
      },
      "execution_count": 22,
      "outputs": [
        {
          "output_type": "stream",
          "name": "stdout",
          "text": [
            "Logging setup complete. Logs are stored in app.log\n"
          ]
        }
      ]
    },
    {
      "cell_type": "code",
      "source": [
        "#19. Write a program that handles both IndexError and KeyError using a try-except block\n",
        "\n",
        "def handle_exceptions():\n",
        "    my_list = [1, 2, 3]\n",
        "    my_dict = {\"a\": 10, \"b\": 20}\n",
        "\n",
        "    try:\n",
        "        # Attempt to access an invalid index in the list\n",
        "        print(my_list[5])  # This will raise IndexError\n",
        "\n",
        "        # Attempt to access a missing key in the dictionary\n",
        "        print(my_dict[\"c\"])  # This will raise KeyError\n",
        "\n",
        "    except IndexError:\n",
        "        print(\"Error: List index is out of range.\")\n",
        "\n",
        "    except KeyError:\n",
        "        print(\"Error: Dictionary key not found.\")\n",
        "\n",
        "    except Exception as e:\n",
        "        print(f\"An unexpected error occurred: {e}\")\n",
        "\n",
        "# Run the function\n",
        "handle_exceptions()\n"
      ],
      "metadata": {
        "colab": {
          "base_uri": "https://localhost:8080/"
        },
        "id": "iqMIh358jWwF",
        "outputId": "41c35c1d-685c-4a03-ed9e-6edf38523800"
      },
      "execution_count": 23,
      "outputs": [
        {
          "output_type": "stream",
          "name": "stdout",
          "text": [
            "Error: List index is out of range.\n"
          ]
        }
      ]
    },
    {
      "cell_type": "code",
      "source": [
        "#20. How would you open a file and read its contents using a context manager in Python\n",
        "\n",
        "file_path = \"example.txt\"  # Replace with your actual file name\n",
        "\n",
        "# Open the file using a context manager\n",
        "with open(file_path, \"r\") as file:\n",
        "    for line in file:\n",
        "        print(line.strip())  # Strip removes extra newline characters\n"
      ],
      "metadata": {
        "colab": {
          "base_uri": "https://localhost:8080/"
        },
        "id": "L-g1TlfMjmTO",
        "outputId": "6fca4dfe-ab5c-4846-8530-46b3f76cbfb3"
      },
      "execution_count": 24,
      "outputs": [
        {
          "output_type": "stream",
          "name": "stdout",
          "text": [
            "Hello, this is a test file!\n",
            "This is a new line added to the file.\n"
          ]
        }
      ]
    },
    {
      "cell_type": "code",
      "source": [
        "#21. Write a Python program that reads a file and prints the number of occurrences of a specific word\n",
        "\n",
        "def count_word_occurrences(file_path, word):\n",
        "    try:\n",
        "        with open(file_path, \"r\", encoding=\"utf-8\") as file:\n",
        "            content = file.read().lower()  # Convert to lowercase for case-insensitive search\n",
        "            word_count = content.split().count(word.lower())  # Count occurrences\n",
        "        print(f\"The word '{word}' appears {word_count} times in '{file_path}'.\")\n",
        "    except FileNotFoundError:\n",
        "        print(f\"Error: The file '{file_path}' does not exist.\")\n",
        "    except Exception as e:\n",
        "        print(f\"An unexpected error occurred: {e}\")\n",
        "\n",
        "# Example Usage\n",
        "file_name = \"sample.txt\"  # Replace with your file name\n",
        "search_word = \"python\"  # Replace with the word you want to count\n",
        "\n",
        "count_word_occurrences(file_name, search_word)\n"
      ],
      "metadata": {
        "colab": {
          "base_uri": "https://localhost:8080/"
        },
        "id": "4xBs4e1xjtuH",
        "outputId": "ef6e44c0-6b69-4f7d-c79b-6f05759243b5"
      },
      "execution_count": 25,
      "outputs": [
        {
          "output_type": "stream",
          "name": "stdout",
          "text": [
            "Error: The file 'sample.txt' does not exist.\n"
          ]
        }
      ]
    },
    {
      "cell_type": "code",
      "source": [
        "#22. How can you check if a file is empty before attempting to read its contents\n",
        "\n",
        "import os\n",
        "\n",
        "file_path = \"example.txt\"  # Replace with your file name\n",
        "\n",
        "# Check file size\n",
        "if os.path.exists(file_path) and os.path.getsize(file_path) == 0:\n",
        "    print(\"The file is empty.\")\n",
        "else:\n",
        "    with open(file_path, \"r\") as file:\n",
        "        print(file.read())  # Read file content\n"
      ],
      "metadata": {
        "colab": {
          "base_uri": "https://localhost:8080/"
        },
        "id": "5VSSlQDCj15e",
        "outputId": "0df29f10-8a05-4306-e721-96e5437d194f"
      },
      "execution_count": 26,
      "outputs": [
        {
          "output_type": "stream",
          "name": "stdout",
          "text": [
            "Hello, this is a test file!\n",
            "This is a new line added to the file.\n"
          ]
        }
      ]
    },
    {
      "cell_type": "code",
      "source": [
        "#23. Write a Python program that writes to a log file when an error occurs during file handling.\n",
        "\n",
        "import logging\n",
        "\n",
        "# Configure logging\n",
        "logging.basicConfig(\n",
        "    filename=\"file_errors.log\",  # Log file name\n",
        "    level=logging.ERROR,  # Log only errors and above\n",
        "    format=\"%(asctime)s - %(levelname)s - %(message)s\",  # Log format\n",
        ")\n",
        "\n",
        "def read_file(file_path):\n",
        "    \"\"\"Attempts to read a file and logs an error if it fails.\"\"\"\n",
        "    try:\n",
        "        with open(file_path, \"r\") as file:\n",
        "            content = file.read()\n",
        "            print(content)  # Print file contents\n",
        "    except FileNotFoundError:\n",
        "        logging.error(f\"File not found: {file_path}\")\n",
        "        print(\"Error: The file does not exist.\")\n",
        "    except PermissionError:\n",
        "        logging.error(f\"Permission denied: {file_path}\")\n",
        "        print(\"Error: Permission denied to read the file.\")\n",
        "    except Exception as e:\n",
        "        logging.error(f\"Unexpected error while reading {file_path}: {e}\")\n",
        "        print(\"An unexpected error occurred.\")\n",
        "\n",
        "# Example Usage\n",
        "file_name = \"non_existent.txt\"  # Replace with an actual file name\n",
        "read_file(file_name)\n"
      ],
      "metadata": {
        "colab": {
          "base_uri": "https://localhost:8080/"
        },
        "id": "N91oVhMnj_ud",
        "outputId": "04391068-11db-479e-b3d7-c0434c6a3d00"
      },
      "execution_count": 27,
      "outputs": [
        {
          "output_type": "stream",
          "name": "stderr",
          "text": [
            "ERROR:root:File not found: non_existent.txt\n"
          ]
        },
        {
          "output_type": "stream",
          "name": "stdout",
          "text": [
            "Error: The file does not exist.\n"
          ]
        }
      ]
    },
    {
      "cell_type": "code",
      "source": [],
      "metadata": {
        "id": "Xk4M7CRmkJxC"
      },
      "execution_count": null,
      "outputs": []
    }
  ]
}